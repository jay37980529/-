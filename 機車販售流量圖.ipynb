{
 "cells": [
  {
   "cell_type": "markdown",
   "metadata": {},
   "source": [
    "# 第14組\n",
    "## 2018-2020機車販售與補助金比較圖\n",
    "\n"
   ]
  },
  {
   "cell_type": "code",
   "execution_count": 1,
   "metadata": {},
   "outputs": [],
   "source": [
    "import pandas as pd\n",
    "import geopandas as gpd\n",
    "import matplotlib.pyplot as plt \n",
    "import numpy as np\n",
    "import seaborn as sns\n"
   ]
  },
  {
   "cell_type": "code",
   "execution_count": 2,
   "metadata": {},
   "outputs": [],
   "source": [
    "motodata1 = pd.read_csv('motodata1.csv')\n",
    "motodata1.dropna(axis=0,how='all',inplace = True)  \n",
    "motodata1.dropna(axis=1,how='all',inplace = True) "
   ]
  },
  {
   "cell_type": "code",
   "execution_count": 3,
   "metadata": {},
   "outputs": [
    {
     "data": {
      "text/html": [
       "<div>\n",
       "<style scoped>\n",
       "    .dataframe tbody tr th:only-of-type {\n",
       "        vertical-align: middle;\n",
       "    }\n",
       "\n",
       "    .dataframe tbody tr th {\n",
       "        vertical-align: top;\n",
       "    }\n",
       "\n",
       "    .dataframe thead th {\n",
       "        text-align: right;\n",
       "    }\n",
       "</style>\n",
       "<table border=\"1\" class=\"dataframe\">\n",
       "  <thead>\n",
       "    <tr style=\"text-align: right;\">\n",
       "      <th></th>\n",
       "      <th>Date</th>\n",
       "      <th>Total</th>\n",
       "      <th>Gogoro</th>\n",
       "      <th>Subsidy</th>\n",
       "    </tr>\n",
       "  </thead>\n",
       "  <tbody>\n",
       "    <tr>\n",
       "      <td>0</td>\n",
       "      <td>18 1</td>\n",
       "      <td>197638.0</td>\n",
       "      <td>12155.0</td>\n",
       "      <td>13500.0</td>\n",
       "    </tr>\n",
       "    <tr>\n",
       "      <td>1</td>\n",
       "      <td>18 2</td>\n",
       "      <td>198396.0</td>\n",
       "      <td>14881.0</td>\n",
       "      <td>13500.0</td>\n",
       "    </tr>\n",
       "    <tr>\n",
       "      <td>2</td>\n",
       "      <td>18 3</td>\n",
       "      <td>232106.0</td>\n",
       "      <td>13821.0</td>\n",
       "      <td>13500.0</td>\n",
       "    </tr>\n",
       "    <tr>\n",
       "      <td>3</td>\n",
       "      <td>18 4</td>\n",
       "      <td>226894.0</td>\n",
       "      <td>25308.0</td>\n",
       "      <td>13500.0</td>\n",
       "    </tr>\n",
       "    <tr>\n",
       "      <td>4</td>\n",
       "      <td>19 1</td>\n",
       "      <td>187581.0</td>\n",
       "      <td>22308.0</td>\n",
       "      <td>13000.0</td>\n",
       "    </tr>\n",
       "    <tr>\n",
       "      <td>5</td>\n",
       "      <td>19 2</td>\n",
       "      <td>207447.0</td>\n",
       "      <td>33099.0</td>\n",
       "      <td>13000.0</td>\n",
       "    </tr>\n",
       "    <tr>\n",
       "      <td>6</td>\n",
       "      <td>19 3</td>\n",
       "      <td>238427.0</td>\n",
       "      <td>33839.0</td>\n",
       "      <td>13000.0</td>\n",
       "    </tr>\n",
       "    <tr>\n",
       "      <td>7</td>\n",
       "      <td>19 4</td>\n",
       "      <td>268677.0</td>\n",
       "      <td>56433.0</td>\n",
       "      <td>13000.0</td>\n",
       "    </tr>\n",
       "    <tr>\n",
       "      <td>8</td>\n",
       "      <td>20 1</td>\n",
       "      <td>186629.0</td>\n",
       "      <td>16260.0</td>\n",
       "      <td>7000.0</td>\n",
       "    </tr>\n",
       "    <tr>\n",
       "      <td>9</td>\n",
       "      <td>20 2</td>\n",
       "      <td>203595.0</td>\n",
       "      <td>18810.0</td>\n",
       "      <td>7000.0</td>\n",
       "    </tr>\n",
       "  </tbody>\n",
       "</table>\n",
       "</div>"
      ],
      "text/plain": [
       "   Date     Total   Gogoro  Subsidy\n",
       "0  18 1  197638.0  12155.0  13500.0\n",
       "1  18 2  198396.0  14881.0  13500.0\n",
       "2  18 3  232106.0  13821.0  13500.0\n",
       "3  18 4  226894.0  25308.0  13500.0\n",
       "4  19 1  187581.0  22308.0  13000.0\n",
       "5  19 2  207447.0  33099.0  13000.0\n",
       "6  19 3  238427.0  33839.0  13000.0\n",
       "7  19 4  268677.0  56433.0  13000.0\n",
       "8  20 1  186629.0  16260.0   7000.0\n",
       "9  20 2  203595.0  18810.0   7000.0"
      ]
     },
     "execution_count": 3,
     "metadata": {},
     "output_type": "execute_result"
    }
   ],
   "source": [
    "motodata1"
   ]
  },
  {
   "cell_type": "code",
   "execution_count": 4,
   "metadata": {},
   "outputs": [
    {
     "data": {
      "image/png": "[encoded data removed]",
      "text/plain": [
       "<Figure size 432x288 with 1 Axes>"
      ]
     },
     "metadata": {
      "needs_background": "light"
     },
     "output_type": "display_data"
    }
   ],
   "source": [
    "date = motodata1['Date']\n",
    "total = motodata1['Total']\n",
    "gogoro = motodata1['Gogoro']\n",
    "subsidy = motodata1['Subsidy']\n",
    "\n",
    "plt.plot(date,total,'-s')\n",
    "plt.plot(date,gogoro,'-s')\n",
    "plt.plot(date,subsidy, '--')\n",
    "plt.legend(['Total', 'Gogoro','Subsidy'],) \n",
    "\n",
    "plt.title(\"Motorcycle data in Taiwan\") # title\n",
    "plt.ylabel(\"Amounte\") # y label\n",
    "plt.xlabel(\"Date\") # x label\n",
    "plt.grid(True)\n",
    "plt.show()"
   ]
  },
  {
   "cell_type": "code",
   "execution_count": 6,
   "metadata": {},
   "outputs": [
    {
     "data": {
      "image/png": "[encoded data removed]",
      "text/plain": [
       "<Figure size 432x288 with 1 Axes>"
      ]
     },
     "metadata": {
      "needs_background": "light"
     },
     "output_type": "display_data"
    }
   ],
   "source": [
    "date = motodata1['Date']\n",
    "subsidy = motodata1['Subsidy']\n",
    "\n",
    "\n",
    "plt.plot(date,subsidy, '--')\n",
    "plt.legend(['Subsidy'],) \n",
    "plt.xticks(fontsize=0)\n",
    "plt.title(\"Motorcycle data in Taiwan\") # title\n",
    "plt.ylabel(\"Amounte\") # y label\n",
    "plt.xlabel(\"Date\") # x label\n",
    "plt.grid(True)\n",
    "plt.show()"
   ]
  }
 ],
 "metadata": {
  "kernelspec": {
   "display_name": "Python 3",
   "language": "python",
   "name": "python3"
  },
  "language_info": {
   "codemirror_mode": {
    "name": "ipython",
    "version": 3
   },
   "file_extension": ".py",
   "mimetype": "text/x-python",
   "name": "python",
   "nbconvert_exporter": "python",
   "pygments_lexer": "ipython3",
   "version": "3.7.4"
  }
 },
 "nbformat": 4,
 "nbformat_minor": 2
}
